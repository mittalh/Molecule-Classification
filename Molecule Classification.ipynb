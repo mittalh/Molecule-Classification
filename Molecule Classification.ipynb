{
 "cells": [
  {
   "cell_type": "code",
   "execution_count": 2,
   "metadata": {},
   "outputs": [],
   "source": [
    "# Importing required packages \n",
    "import os\n",
    "import pandas as pd\n",
    "import numpy as np\n",
    "import matplotlib.pyplot as plt\n",
    "import seaborn as sns\n",
    "import tensorflow as tf\n",
    "import keras\n",
    "from sklearn.model_selection import train_test_split\n",
    "import scikitplot as skplt\n",
    "from sklearn.metrics import f1_score, classification_report"
   ]
  },
  {
   "cell_type": "code",
   "execution_count": 3,
   "metadata": {},
   "outputs": [
    {
     "name": "stdout",
     "output_type": "stream",
     "text": [
      "['musk_csv.csv', 'weights-improvement-01-0.96.hdf5', 'weights-improvement-02-0.98.hdf5', 'weights-improvement-07-1.00.hdf5']\n"
     ]
    }
   ],
   "source": [
    "# Setting the required directory where the Data file is present\n",
    "os.chdir(r'D:\\DI')\n",
    "print(os.listdir())"
   ]
  },
  {
   "cell_type": "code",
   "execution_count": 4,
   "metadata": {},
   "outputs": [],
   "source": [
    "df=pd.read_csv(\"musk_csv.csv\")   # Reading the Data File"
   ]
  },
  {
   "cell_type": "code",
   "execution_count": 5,
   "metadata": {},
   "outputs": [
    {
     "data": {
      "text/html": [
       "<div>\n",
       "<style scoped>\n",
       "    .dataframe tbody tr th:only-of-type {\n",
       "        vertical-align: middle;\n",
       "    }\n",
       "\n",
       "    .dataframe tbody tr th {\n",
       "        vertical-align: top;\n",
       "    }\n",
       "\n",
       "    .dataframe thead th {\n",
       "        text-align: right;\n",
       "    }\n",
       "</style>\n",
       "<table border=\"1\" class=\"dataframe\">\n",
       "  <thead>\n",
       "    <tr style=\"text-align: right;\">\n",
       "      <th></th>\n",
       "      <th>ID</th>\n",
       "      <th>molecule_name</th>\n",
       "      <th>conformation_name</th>\n",
       "      <th>f1</th>\n",
       "      <th>f2</th>\n",
       "      <th>f3</th>\n",
       "      <th>f4</th>\n",
       "      <th>f5</th>\n",
       "      <th>f6</th>\n",
       "      <th>f7</th>\n",
       "      <th>...</th>\n",
       "      <th>f158</th>\n",
       "      <th>f159</th>\n",
       "      <th>f160</th>\n",
       "      <th>f161</th>\n",
       "      <th>f162</th>\n",
       "      <th>f163</th>\n",
       "      <th>f164</th>\n",
       "      <th>f165</th>\n",
       "      <th>f166</th>\n",
       "      <th>class</th>\n",
       "    </tr>\n",
       "  </thead>\n",
       "  <tbody>\n",
       "    <tr>\n",
       "      <th>0</th>\n",
       "      <td>1</td>\n",
       "      <td>MUSK-211</td>\n",
       "      <td>211_1+1</td>\n",
       "      <td>46</td>\n",
       "      <td>-108</td>\n",
       "      <td>-60</td>\n",
       "      <td>-69</td>\n",
       "      <td>-117</td>\n",
       "      <td>49</td>\n",
       "      <td>38</td>\n",
       "      <td>...</td>\n",
       "      <td>-308</td>\n",
       "      <td>52</td>\n",
       "      <td>-7</td>\n",
       "      <td>39</td>\n",
       "      <td>126</td>\n",
       "      <td>156</td>\n",
       "      <td>-50</td>\n",
       "      <td>-112</td>\n",
       "      <td>96</td>\n",
       "      <td>1</td>\n",
       "    </tr>\n",
       "    <tr>\n",
       "      <th>1</th>\n",
       "      <td>2</td>\n",
       "      <td>MUSK-211</td>\n",
       "      <td>211_1+10</td>\n",
       "      <td>41</td>\n",
       "      <td>-188</td>\n",
       "      <td>-145</td>\n",
       "      <td>22</td>\n",
       "      <td>-117</td>\n",
       "      <td>-6</td>\n",
       "      <td>57</td>\n",
       "      <td>...</td>\n",
       "      <td>-59</td>\n",
       "      <td>-2</td>\n",
       "      <td>52</td>\n",
       "      <td>103</td>\n",
       "      <td>136</td>\n",
       "      <td>169</td>\n",
       "      <td>-61</td>\n",
       "      <td>-136</td>\n",
       "      <td>79</td>\n",
       "      <td>1</td>\n",
       "    </tr>\n",
       "    <tr>\n",
       "      <th>2</th>\n",
       "      <td>3</td>\n",
       "      <td>MUSK-211</td>\n",
       "      <td>211_1+11</td>\n",
       "      <td>46</td>\n",
       "      <td>-194</td>\n",
       "      <td>-145</td>\n",
       "      <td>28</td>\n",
       "      <td>-117</td>\n",
       "      <td>73</td>\n",
       "      <td>57</td>\n",
       "      <td>...</td>\n",
       "      <td>-134</td>\n",
       "      <td>-154</td>\n",
       "      <td>57</td>\n",
       "      <td>143</td>\n",
       "      <td>142</td>\n",
       "      <td>165</td>\n",
       "      <td>-67</td>\n",
       "      <td>-145</td>\n",
       "      <td>39</td>\n",
       "      <td>1</td>\n",
       "    </tr>\n",
       "    <tr>\n",
       "      <th>3</th>\n",
       "      <td>4</td>\n",
       "      <td>MUSK-211</td>\n",
       "      <td>211_1+12</td>\n",
       "      <td>41</td>\n",
       "      <td>-188</td>\n",
       "      <td>-145</td>\n",
       "      <td>22</td>\n",
       "      <td>-117</td>\n",
       "      <td>-7</td>\n",
       "      <td>57</td>\n",
       "      <td>...</td>\n",
       "      <td>-60</td>\n",
       "      <td>-4</td>\n",
       "      <td>52</td>\n",
       "      <td>104</td>\n",
       "      <td>136</td>\n",
       "      <td>168</td>\n",
       "      <td>-60</td>\n",
       "      <td>-135</td>\n",
       "      <td>80</td>\n",
       "      <td>1</td>\n",
       "    </tr>\n",
       "    <tr>\n",
       "      <th>4</th>\n",
       "      <td>5</td>\n",
       "      <td>MUSK-211</td>\n",
       "      <td>211_1+13</td>\n",
       "      <td>41</td>\n",
       "      <td>-188</td>\n",
       "      <td>-145</td>\n",
       "      <td>22</td>\n",
       "      <td>-117</td>\n",
       "      <td>-7</td>\n",
       "      <td>57</td>\n",
       "      <td>...</td>\n",
       "      <td>-60</td>\n",
       "      <td>-4</td>\n",
       "      <td>52</td>\n",
       "      <td>104</td>\n",
       "      <td>137</td>\n",
       "      <td>168</td>\n",
       "      <td>-60</td>\n",
       "      <td>-135</td>\n",
       "      <td>80</td>\n",
       "      <td>1</td>\n",
       "    </tr>\n",
       "  </tbody>\n",
       "</table>\n",
       "<p>5 rows × 170 columns</p>\n",
       "</div>"
      ],
      "text/plain": [
       "   ID molecule_name conformation_name  f1   f2   f3  f4   f5  f6  f7  ...  \\\n",
       "0   1      MUSK-211           211_1+1  46 -108  -60 -69 -117  49  38  ...   \n",
       "1   2      MUSK-211          211_1+10  41 -188 -145  22 -117  -6  57  ...   \n",
       "2   3      MUSK-211          211_1+11  46 -194 -145  28 -117  73  57  ...   \n",
       "3   4      MUSK-211          211_1+12  41 -188 -145  22 -117  -7  57  ...   \n",
       "4   5      MUSK-211          211_1+13  41 -188 -145  22 -117  -7  57  ...   \n",
       "\n",
       "   f158  f159  f160  f161  f162  f163  f164  f165  f166  class  \n",
       "0  -308    52    -7    39   126   156   -50  -112    96      1  \n",
       "1   -59    -2    52   103   136   169   -61  -136    79      1  \n",
       "2  -134  -154    57   143   142   165   -67  -145    39      1  \n",
       "3   -60    -4    52   104   136   168   -60  -135    80      1  \n",
       "4   -60    -4    52   104   137   168   -60  -135    80      1  \n",
       "\n",
       "[5 rows x 170 columns]"
      ]
     },
     "execution_count": 5,
     "metadata": {},
     "output_type": "execute_result"
    }
   ],
   "source": [
    "df.head()     # Lets have a look at the first 5 rows "
   ]
  },
  {
   "cell_type": "code",
   "execution_count": 6,
   "metadata": {},
   "outputs": [
    {
     "name": "stdout",
     "output_type": "stream",
     "text": [
      "<class 'pandas.core.frame.DataFrame'>\n",
      "RangeIndex: 6598 entries, 0 to 6597\n",
      "Columns: 170 entries, ID to class\n",
      "dtypes: int64(168), object(2)\n",
      "memory usage: 8.6+ MB\n"
     ]
    }
   ],
   "source": [
    "df.info()     # Lets see how many columns do we have and what's their data type is?\n",
    "              # 6598 Data entries with 170 columns"
   ]
  },
  {
   "cell_type": "code",
   "execution_count": 6,
   "metadata": {},
   "outputs": [
    {
     "data": {
      "text/plain": [
       "<matplotlib.axes._subplots.AxesSubplot at 0x158d59499e8>"
      ]
     },
     "execution_count": 6,
     "metadata": {},
     "output_type": "execute_result"
    },
    {
     "data": {
      "image/png": "[encoded data removed]",
      "text/plain": [
       "<Figure size 432x288 with 1 Axes>"
      ]
     },
     "metadata": {
      "needs_background": "light"
     },
     "output_type": "display_data"
    }
   ],
   "source": [
    "# Lets see, in which proportion the Class label is present\n",
    "# This is an unbalanced class problem \n",
    "sns.countplot(df['class'])"
   ]
  },
  {
   "cell_type": "code",
   "execution_count": 7,
   "metadata": {},
   "outputs": [
    {
     "name": "stdout",
     "output_type": "stream",
     "text": [
      "Class 1 is only 15.0 %\n"
     ]
    }
   ],
   "source": [
    "print(\"Class 1 is only \"+str(round((df['class'].sum())/len(df)*100))+str(\" %\"))"
   ]
  },
  {
   "cell_type": "code",
   "execution_count": 8,
   "metadata": {},
   "outputs": [
    {
     "name": "stdout",
     "output_type": "stream",
     "text": [
      "Unique Molecule name: 102\n",
      "Unique Conformation name: 6598\n"
     ]
    }
   ],
   "source": [
    "# Lets have a look at the no of Unique molecule name and Conformation name\n",
    "print(\"Unique Molecule name: \"+str(len(df['molecule_name'].value_counts())))\n",
    "print(\"Unique Conformation name: \"+str(len(df['conformation_name'].value_counts())))  \n",
    "# Since there are 6598 unique conformations it means there is an information about 6598 molecules where name can same but every \n",
    "# data point is related to an unique Molecule"
   ]
  },
  {
   "cell_type": "code",
   "execution_count": 7,
   "metadata": {},
   "outputs": [],
   "source": [
    "# Lets drop ID, Molecule_name and Conformation Name as they are not the features just an Identity.\n",
    "df.drop(['molecule_name','conformation_name','ID'],axis=1,inplace=True)\n"
   ]
  },
  {
   "cell_type": "code",
   "execution_count": 8,
   "metadata": {},
   "outputs": [
    {
     "data": {
      "text/html": [
       "<div>\n",
       "<style scoped>\n",
       "    .dataframe tbody tr th:only-of-type {\n",
       "        vertical-align: middle;\n",
       "    }\n",
       "\n",
       "    .dataframe tbody tr th {\n",
       "        vertical-align: top;\n",
       "    }\n",
       "\n",
       "    .dataframe thead th {\n",
       "        text-align: right;\n",
       "    }\n",
       "</style>\n",
       "<table border=\"1\" class=\"dataframe\">\n",
       "  <thead>\n",
       "    <tr style=\"text-align: right;\">\n",
       "      <th></th>\n",
       "      <th>f1</th>\n",
       "      <th>f2</th>\n",
       "      <th>f3</th>\n",
       "      <th>f4</th>\n",
       "      <th>f5</th>\n",
       "      <th>f6</th>\n",
       "      <th>f7</th>\n",
       "      <th>f8</th>\n",
       "      <th>f9</th>\n",
       "      <th>f10</th>\n",
       "      <th>...</th>\n",
       "      <th>f158</th>\n",
       "      <th>f159</th>\n",
       "      <th>f160</th>\n",
       "      <th>f161</th>\n",
       "      <th>f162</th>\n",
       "      <th>f163</th>\n",
       "      <th>f164</th>\n",
       "      <th>f165</th>\n",
       "      <th>f166</th>\n",
       "      <th>class</th>\n",
       "    </tr>\n",
       "  </thead>\n",
       "  <tbody>\n",
       "    <tr>\n",
       "      <th>0</th>\n",
       "      <td>46</td>\n",
       "      <td>-108</td>\n",
       "      <td>-60</td>\n",
       "      <td>-69</td>\n",
       "      <td>-117</td>\n",
       "      <td>49</td>\n",
       "      <td>38</td>\n",
       "      <td>-161</td>\n",
       "      <td>-8</td>\n",
       "      <td>5</td>\n",
       "      <td>...</td>\n",
       "      <td>-308</td>\n",
       "      <td>52</td>\n",
       "      <td>-7</td>\n",
       "      <td>39</td>\n",
       "      <td>126</td>\n",
       "      <td>156</td>\n",
       "      <td>-50</td>\n",
       "      <td>-112</td>\n",
       "      <td>96</td>\n",
       "      <td>1</td>\n",
       "    </tr>\n",
       "    <tr>\n",
       "      <th>1</th>\n",
       "      <td>41</td>\n",
       "      <td>-188</td>\n",
       "      <td>-145</td>\n",
       "      <td>22</td>\n",
       "      <td>-117</td>\n",
       "      <td>-6</td>\n",
       "      <td>57</td>\n",
       "      <td>-171</td>\n",
       "      <td>-39</td>\n",
       "      <td>-100</td>\n",
       "      <td>...</td>\n",
       "      <td>-59</td>\n",
       "      <td>-2</td>\n",
       "      <td>52</td>\n",
       "      <td>103</td>\n",
       "      <td>136</td>\n",
       "      <td>169</td>\n",
       "      <td>-61</td>\n",
       "      <td>-136</td>\n",
       "      <td>79</td>\n",
       "      <td>1</td>\n",
       "    </tr>\n",
       "    <tr>\n",
       "      <th>2</th>\n",
       "      <td>46</td>\n",
       "      <td>-194</td>\n",
       "      <td>-145</td>\n",
       "      <td>28</td>\n",
       "      <td>-117</td>\n",
       "      <td>73</td>\n",
       "      <td>57</td>\n",
       "      <td>-168</td>\n",
       "      <td>-39</td>\n",
       "      <td>-22</td>\n",
       "      <td>...</td>\n",
       "      <td>-134</td>\n",
       "      <td>-154</td>\n",
       "      <td>57</td>\n",
       "      <td>143</td>\n",
       "      <td>142</td>\n",
       "      <td>165</td>\n",
       "      <td>-67</td>\n",
       "      <td>-145</td>\n",
       "      <td>39</td>\n",
       "      <td>1</td>\n",
       "    </tr>\n",
       "    <tr>\n",
       "      <th>3</th>\n",
       "      <td>41</td>\n",
       "      <td>-188</td>\n",
       "      <td>-145</td>\n",
       "      <td>22</td>\n",
       "      <td>-117</td>\n",
       "      <td>-7</td>\n",
       "      <td>57</td>\n",
       "      <td>-170</td>\n",
       "      <td>-39</td>\n",
       "      <td>-99</td>\n",
       "      <td>...</td>\n",
       "      <td>-60</td>\n",
       "      <td>-4</td>\n",
       "      <td>52</td>\n",
       "      <td>104</td>\n",
       "      <td>136</td>\n",
       "      <td>168</td>\n",
       "      <td>-60</td>\n",
       "      <td>-135</td>\n",
       "      <td>80</td>\n",
       "      <td>1</td>\n",
       "    </tr>\n",
       "    <tr>\n",
       "      <th>4</th>\n",
       "      <td>41</td>\n",
       "      <td>-188</td>\n",
       "      <td>-145</td>\n",
       "      <td>22</td>\n",
       "      <td>-117</td>\n",
       "      <td>-7</td>\n",
       "      <td>57</td>\n",
       "      <td>-170</td>\n",
       "      <td>-39</td>\n",
       "      <td>-99</td>\n",
       "      <td>...</td>\n",
       "      <td>-60</td>\n",
       "      <td>-4</td>\n",
       "      <td>52</td>\n",
       "      <td>104</td>\n",
       "      <td>137</td>\n",
       "      <td>168</td>\n",
       "      <td>-60</td>\n",
       "      <td>-135</td>\n",
       "      <td>80</td>\n",
       "      <td>1</td>\n",
       "    </tr>\n",
       "  </tbody>\n",
       "</table>\n",
       "<p>5 rows × 167 columns</p>\n",
       "</div>"
      ],
      "text/plain": [
       "   f1   f2   f3  f4   f5  f6  f7   f8  f9  f10  ...  f158  f159  f160  f161  \\\n",
       "0  46 -108  -60 -69 -117  49  38 -161  -8    5  ...  -308    52    -7    39   \n",
       "1  41 -188 -145  22 -117  -6  57 -171 -39 -100  ...   -59    -2    52   103   \n",
       "2  46 -194 -145  28 -117  73  57 -168 -39  -22  ...  -134  -154    57   143   \n",
       "3  41 -188 -145  22 -117  -7  57 -170 -39  -99  ...   -60    -4    52   104   \n",
       "4  41 -188 -145  22 -117  -7  57 -170 -39  -99  ...   -60    -4    52   104   \n",
       "\n",
       "   f162  f163  f164  f165  f166  class  \n",
       "0   126   156   -50  -112    96      1  \n",
       "1   136   169   -61  -136    79      1  \n",
       "2   142   165   -67  -145    39      1  \n",
       "3   136   168   -60  -135    80      1  \n",
       "4   137   168   -60  -135    80      1  \n",
       "\n",
       "[5 rows x 167 columns]"
      ]
     },
     "execution_count": 8,
     "metadata": {},
     "output_type": "execute_result"
    }
   ],
   "source": [
    "# Lets build a feature matrix data frame and call that X and label Data Frame and lets call that y\n",
    "X=df.drop(['class'],axis=1)\n",
    "y=df[['class']]\n",
    "df.head()\n"
   ]
  },
  {
   "cell_type": "code",
   "execution_count": 9,
   "metadata": {},
   "outputs": [],
   "source": [
    "#Lets split the data into train and test in 80:20 ratio \n",
    "X_train,X_test,y_train,y_test=train_test_split(X,y,test_size=0.2,stratify=y)"
   ]
  },
  {
   "cell_type": "code",
   "execution_count": 10,
   "metadata": {},
   "outputs": [
    {
     "name": "stdout",
     "output_type": "stream",
     "text": [
      "X_Train shape: (5278, 166)\n",
      "y_Train shape: (5278, 1)\n",
      "X_test shape: (1320, 166)\n",
      "y_test shape: (1320, 1)\n"
     ]
    }
   ],
   "source": [
    "# Lets have a look at the shape of the train and validation data set\n",
    "print(\"X_Train shape: \"+str(X_train.shape))\n",
    "print(\"y_Train shape: \"+str(y_train.shape))\n",
    "print(\"X_test shape: \"+str(X_test.shape))\n",
    "print(\"y_test shape: \"+str(y_test.shape))"
   ]
  },
  {
   "cell_type": "code",
   "execution_count": 11,
   "metadata": {},
   "outputs": [
    {
     "name": "stdout",
     "output_type": "stream",
     "text": [
      "y_train_ shape: (5278, 2)\n",
      "y_test_ shape: (1320, 2)\n"
     ]
    }
   ],
   "source": [
    "# Lets make a hot encoded labels because of our DNN Architecture\n",
    "y_train=np.array(y_train)\n",
    "y_test=np.array(y_test)\n",
    "from keras.utils import to_categorical\n",
    "y_train_=to_categorical(y_train)\n",
    "y_test_=to_categorical(y_test)\n",
    "print(\"y_train_ shape: \"+str(y_train_.shape))\n",
    "print(\"y_test_ shape: \"+str(y_test_.shape))"
   ]
  },
  {
   "cell_type": "code",
   "execution_count": 14,
   "metadata": {},
   "outputs": [],
   "source": [
    "# Lets built a callback so that we can save the best model instatntly on the basis of validation Accuracy\n",
    "from keras.callbacks import ModelCheckpoint\n",
    "current_directory=os.getcwd()\n",
    "filepath=current_directory\n",
    "checkpoint = ModelCheckpoint(\"weights-improvement-{epoch:02d}-{val_accuracy:.2f}.hdf5\", monitor='val_accuracy', verbose=1, save_best_only=True, mode='max')\n",
    "callbacks_list = [checkpoint]"
   ]
  },
  {
   "cell_type": "code",
   "execution_count": 15,
   "metadata": {},
   "outputs": [],
   "source": [
    "# Lets build a DNN for this classification problem\n",
    "# 166 Neurons in INput Layer with Activation Relu\n",
    "# then 264,128,64 neurons in respected hidden layers\n",
    "# 2 neurons in Output layer with Softmax as an Activation Function(to convert the outputs into probabilities)\n",
    "\n",
    "\n",
    "\n",
    "model= keras.Sequential([   keras.layers.Dense(166, input_shape=(166,), activation='relu'), \n",
    "                            keras.layers.Dense(264,activation='relu'),\n",
    "                           keras.layers.Dense(128,activation='relu'),\n",
    "                         keras.layers.Dropout(0.1),                     # Dropping rate for Regularization\n",
    "                           keras.layers.Dense(64,activation='relu'),\n",
    "                         keras.layers.Dropout(0.1),                     # Dropping rate for Regularization\n",
    "                         keras.layers.Dense(2,activation='softmax')\n",
    "    \n",
    "    \n",
    "    \n",
    "])"
   ]
  },
  {
   "cell_type": "code",
   "execution_count": 16,
   "metadata": {},
   "outputs": [
    {
     "name": "stdout",
     "output_type": "stream",
     "text": [
      "Model: \"sequential_1\"\n",
      "_________________________________________________________________\n",
      "Layer (type)                 Output Shape              Param #   \n",
      "=================================================================\n",
      "dense_1 (Dense)              (None, 166)               27722     \n",
      "_________________________________________________________________\n",
      "dense_2 (Dense)              (None, 264)               44088     \n",
      "_________________________________________________________________\n",
      "dense_3 (Dense)              (None, 128)               33920     \n",
      "_________________________________________________________________\n",
      "dropout_1 (Dropout)          (None, 128)               0         \n",
      "_________________________________________________________________\n",
      "dense_4 (Dense)              (None, 64)                8256      \n",
      "_________________________________________________________________\n",
      "dropout_2 (Dropout)          (None, 64)                0         \n",
      "_________________________________________________________________\n",
      "dense_5 (Dense)              (None, 2)                 130       \n",
      "=================================================================\n",
      "Total params: 114,116\n",
      "Trainable params: 114,116\n",
      "Non-trainable params: 0\n",
      "_________________________________________________________________\n"
     ]
    }
   ],
   "source": [
    "# Lets see our model Summary and No. of parameters that we need to train\n",
    "model.summary()"
   ]
  },
  {
   "cell_type": "code",
   "execution_count": 17,
   "metadata": {},
   "outputs": [],
   "source": [
    "#Lets compile our model with a loss function 'Categorical_crossentropy'\n",
    "# Lets use Adam as an optimizer with Default learning rate i.e 0.001\n",
    "# And see the performance on the basis of Accuracy metrics\n",
    "model.compile(loss='categorical_crossentropy',optimizer='adam', metrics=['accuracy'])\n"
   ]
  },
  {
   "cell_type": "code",
   "execution_count": 18,
   "metadata": {},
   "outputs": [
    {
     "name": "stdout",
     "output_type": "stream",
     "text": [
      "Train on 5225 samples, validate on 53 samples\n",
      "Epoch 1/100\n",
      "5225/5225 [==============================] - 6s 1ms/step - loss: 1.3960 - accuracy: 0.8699 - val_loss: 0.1502 - val_accuracy: 0.9623\n",
      "\n",
      "Epoch 00001: val_accuracy improved from -inf to 0.96226, saving model to weights-improvement-01-0.96.hdf5\n",
      "Epoch 2/100\n",
      "5225/5225 [==============================] - 4s 839us/step - loss: 0.2035 - accuracy: 0.9319 - val_loss: 0.0916 - val_accuracy: 0.9811\n",
      "\n",
      "Epoch 00002: val_accuracy improved from 0.96226 to 0.98113, saving model to weights-improvement-02-0.98.hdf5\n",
      "Epoch 3/100\n",
      "5225/5225 [==============================] - 4s 827us/step - loss: 0.1594 - accuracy: 0.9424 - val_loss: 0.0731 - val_accuracy: 0.9434\n",
      "\n",
      "Epoch 00003: val_accuracy did not improve from 0.98113\n",
      "Epoch 4/100\n",
      "5225/5225 [==============================] - 4s 828us/step - loss: 0.1237 - accuracy: 0.9541 - val_loss: 0.0809 - val_accuracy: 0.9811\n",
      "\n",
      "Epoch 00004: val_accuracy did not improve from 0.98113\n",
      "Epoch 5/100\n",
      "5225/5225 [==============================] - 4s 807us/step - loss: 0.1149 - accuracy: 0.9589 - val_loss: 0.0624 - val_accuracy: 0.9811\n",
      "\n",
      "Epoch 00005: val_accuracy did not improve from 0.98113\n",
      "Epoch 6/100\n",
      "5225/5225 [==============================] - 4s 824us/step - loss: 0.1097 - accuracy: 0.9594 - val_loss: 0.0785 - val_accuracy: 0.9811\n",
      "\n",
      "Epoch 00006: val_accuracy did not improve from 0.98113\n",
      "Epoch 7/100\n",
      "5225/5225 [==============================] - 4s 808us/step - loss: 0.1091 - accuracy: 0.9606 - val_loss: 0.0627 - val_accuracy: 1.0000\n",
      "\n",
      "Epoch 00007: val_accuracy improved from 0.98113 to 1.00000, saving model to weights-improvement-07-1.00.hdf5\n",
      "Epoch 8/100\n",
      "5225/5225 [==============================] - 4s 780us/step - loss: 0.2848 - accuracy: 0.9359 - val_loss: 0.0355 - val_accuracy: 1.0000\n",
      "\n",
      "Epoch 00008: val_accuracy did not improve from 1.00000\n",
      "Epoch 9/100\n",
      "5225/5225 [==============================] - 4s 851us/step - loss: 0.1147 - accuracy: 0.9571 - val_loss: 0.1027 - val_accuracy: 0.9623\n",
      "\n",
      "Epoch 00009: val_accuracy did not improve from 1.00000\n",
      "Epoch 10/100\n",
      "5225/5225 [==============================] - 4s 826us/step - loss: 0.0784 - accuracy: 0.9709 - val_loss: 0.0626 - val_accuracy: 0.9623\n",
      "\n",
      "Epoch 00010: val_accuracy did not improve from 1.00000\n",
      "Epoch 11/100\n",
      "5225/5225 [==============================] - 4s 825us/step - loss: 0.0707 - accuracy: 0.9755 - val_loss: 0.0687 - val_accuracy: 0.9623\n",
      "\n",
      "Epoch 00011: val_accuracy did not improve from 1.00000\n",
      "Epoch 12/100\n",
      "5225/5225 [==============================] - 4s 816us/step - loss: 0.0903 - accuracy: 0.9678 - val_loss: 0.0531 - val_accuracy: 0.9811\n",
      "\n",
      "Epoch 00012: val_accuracy did not improve from 1.00000\n",
      "Epoch 13/100\n",
      "5225/5225 [==============================] - 4s 819us/step - loss: 0.1202 - accuracy: 0.9665 - val_loss: 0.0548 - val_accuracy: 1.0000\n",
      "\n",
      "Epoch 00013: val_accuracy did not improve from 1.00000\n",
      "Epoch 14/100\n",
      "5225/5225 [==============================] - 4s 836us/step - loss: 0.0742 - accuracy: 0.9734 - val_loss: 0.0267 - val_accuracy: 1.0000\n",
      "\n",
      "Epoch 00014: val_accuracy did not improve from 1.00000\n",
      "Epoch 15/100\n",
      "5225/5225 [==============================] - 4s 837us/step - loss: 0.0721 - accuracy: 0.9726 - val_loss: 0.0322 - val_accuracy: 0.9811\n",
      "\n",
      "Epoch 00015: val_accuracy did not improve from 1.00000\n",
      "Epoch 16/100\n",
      "5225/5225 [==============================] - 4s 820us/step - loss: 0.0540 - accuracy: 0.9828 - val_loss: 0.0696 - val_accuracy: 0.9623\n",
      "\n",
      "Epoch 00016: val_accuracy did not improve from 1.00000\n",
      "Epoch 17/100\n",
      "5225/5225 [==============================] - 4s 804us/step - loss: 0.0649 - accuracy: 0.9761 - val_loss: 0.0021 - val_accuracy: 1.0000\n",
      "\n",
      "Epoch 00017: val_accuracy did not improve from 1.00000\n",
      "Epoch 18/100\n",
      "5225/5225 [==============================] - 4s 842us/step - loss: 0.0517 - accuracy: 0.9809 - val_loss: 0.0748 - val_accuracy: 0.9623\n",
      "\n",
      "Epoch 00018: val_accuracy did not improve from 1.00000\n",
      "Epoch 19/100\n",
      "5225/5225 [==============================] - 4s 807us/step - loss: 0.1214 - accuracy: 0.9719 - val_loss: 0.0792 - val_accuracy: 0.9811\n",
      "\n",
      "Epoch 00019: val_accuracy did not improve from 1.00000\n",
      "Epoch 20/100\n",
      "5225/5225 [==============================] - 5s 910us/step - loss: 0.0496 - accuracy: 0.9847 - val_loss: 0.0294 - val_accuracy: 0.9811\n",
      "\n",
      "Epoch 00020: val_accuracy did not improve from 1.00000\n",
      "Epoch 21/100\n",
      "5225/5225 [==============================] - 5s 869us/step - loss: 0.0492 - accuracy: 0.9853 - val_loss: 0.3350 - val_accuracy: 0.9434\n",
      "\n",
      "Epoch 00021: val_accuracy did not improve from 1.00000\n",
      "Epoch 22/100\n",
      "5225/5225 [==============================] - 4s 834us/step - loss: 0.0402 - accuracy: 0.9860 - val_loss: 0.0100 - val_accuracy: 1.0000\n",
      "\n",
      "Epoch 00022: val_accuracy did not improve from 1.00000\n",
      "Epoch 23/100\n",
      "5225/5225 [==============================] - 5s 874us/step - loss: 0.0850 - accuracy: 0.9780 - val_loss: 0.0652 - val_accuracy: 1.0000\n",
      "\n",
      "Epoch 00023: val_accuracy did not improve from 1.00000\n",
      "Epoch 24/100\n",
      "5225/5225 [==============================] - 5s 926us/step - loss: 0.0768 - accuracy: 0.9715 - val_loss: 0.0302 - val_accuracy: 0.9811\n",
      "\n",
      "Epoch 00024: val_accuracy did not improve from 1.00000\n",
      "Epoch 25/100\n",
      "5225/5225 [==============================] - 4s 851us/step - loss: 0.0440 - accuracy: 0.9843 - val_loss: 0.0901 - val_accuracy: 0.9811\n",
      "\n",
      "Epoch 00025: val_accuracy did not improve from 1.00000\n",
      "Epoch 26/100\n",
      "5225/5225 [==============================] - 4s 845us/step - loss: 0.0526 - accuracy: 0.9797 - val_loss: 0.0304 - val_accuracy: 1.0000\n",
      "\n",
      "Epoch 00026: val_accuracy did not improve from 1.00000\n",
      "Epoch 27/100\n",
      "5225/5225 [==============================] - 4s 818us/step - loss: 0.0361 - accuracy: 0.9866 - val_loss: 0.0055 - val_accuracy: 1.0000\n",
      "\n",
      "Epoch 00027: val_accuracy did not improve from 1.00000\n",
      "Epoch 28/100\n",
      "5225/5225 [==============================] - 4s 844us/step - loss: 0.0668 - accuracy: 0.9793 - val_loss: 0.0824 - val_accuracy: 0.9623\n",
      "\n",
      "Epoch 00028: val_accuracy did not improve from 1.00000\n",
      "Epoch 29/100\n",
      "5225/5225 [==============================] - 4s 845us/step - loss: 0.0760 - accuracy: 0.9805 - val_loss: 5.1804e-04 - val_accuracy: 1.0000\n",
      "\n",
      "Epoch 00029: val_accuracy did not improve from 1.00000\n",
      "Epoch 30/100\n",
      "5225/5225 [==============================] - 4s 746us/step - loss: 0.0488 - accuracy: 0.9820 - val_loss: 0.0019 - val_accuracy: 1.0000\n",
      "\n",
      "Epoch 00030: val_accuracy did not improve from 1.00000\n",
      "Epoch 31/100\n",
      "5225/5225 [==============================] - 4s 853us/step - loss: 0.1236 - accuracy: 0.9518 - val_loss: 0.0348 - val_accuracy: 0.9811\n",
      "\n",
      "Epoch 00031: val_accuracy did not improve from 1.00000\n",
      "Epoch 32/100\n",
      "5225/5225 [==============================] - 4s 789us/step - loss: 0.0333 - accuracy: 0.9881 - val_loss: 0.0332 - val_accuracy: 0.9811\n",
      "\n",
      "Epoch 00032: val_accuracy did not improve from 1.00000\n",
      "Epoch 33/100\n",
      "5225/5225 [==============================] - 4s 696us/step - loss: 0.0255 - accuracy: 0.9889 - val_loss: 0.0318 - val_accuracy: 0.9623\n",
      "\n",
      "Epoch 00033: val_accuracy did not improve from 1.00000\n",
      "Epoch 34/100\n",
      "5225/5225 [==============================] - 4s 809us/step - loss: 0.0754 - accuracy: 0.9780 - val_loss: 0.3290 - val_accuracy: 0.9623\n",
      "\n",
      "Epoch 00034: val_accuracy did not improve from 1.00000\n",
      "Epoch 35/100\n",
      "5225/5225 [==============================] - 4s 711us/step - loss: 0.0725 - accuracy: 0.9780 - val_loss: 0.0206 - val_accuracy: 0.9811\n",
      "\n",
      "Epoch 00035: val_accuracy did not improve from 1.00000\n",
      "Epoch 36/100\n",
      "5225/5225 [==============================] - 4s 853us/step - loss: 0.0214 - accuracy: 0.9900 - val_loss: 0.0068 - val_accuracy: 1.0000\n",
      "\n",
      "Epoch 00036: val_accuracy did not improve from 1.00000\n",
      "Epoch 37/100\n",
      "5225/5225 [==============================] - 4s 808us/step - loss: 0.0560 - accuracy: 0.9832 - val_loss: 0.0590 - val_accuracy: 0.9623\n",
      "\n",
      "Epoch 00037: val_accuracy did not improve from 1.00000\n",
      "Epoch 38/100\n",
      "5225/5225 [==============================] - 4s 757us/step - loss: 0.0558 - accuracy: 0.9833 - val_loss: 0.0046 - val_accuracy: 1.0000\n",
      "\n",
      "Epoch 00038: val_accuracy did not improve from 1.00000\n",
      "Epoch 39/100\n",
      "5225/5225 [==============================] - 4s 760us/step - loss: 0.0244 - accuracy: 0.9895 - val_loss: 8.9946e-04 - val_accuracy: 1.0000\n",
      "\n",
      "Epoch 00039: val_accuracy did not improve from 1.00000\n",
      "Epoch 40/100\n",
      "5225/5225 [==============================] - 4s 823us/step - loss: 0.0216 - accuracy: 0.9929 - val_loss: 0.0205 - val_accuracy: 1.0000\n",
      "\n",
      "Epoch 00040: val_accuracy did not improve from 1.00000\n",
      "Epoch 41/100\n",
      "5225/5225 [==============================] - 4s 809us/step - loss: 0.0267 - accuracy: 0.9883 - val_loss: 0.0872 - val_accuracy: 0.9811\n",
      "\n",
      "Epoch 00041: val_accuracy did not improve from 1.00000\n",
      "Epoch 42/100\n",
      "5225/5225 [==============================] - 4s 716us/step - loss: 0.1429 - accuracy: 0.9573 - val_loss: 0.0455 - val_accuracy: 0.9623\n",
      "\n",
      "Epoch 00042: val_accuracy did not improve from 1.00000\n",
      "Epoch 43/100\n",
      "5225/5225 [==============================] - 4s 804us/step - loss: 0.0321 - accuracy: 0.9887 - val_loss: 0.0039 - val_accuracy: 1.0000\n",
      "\n",
      "Epoch 00043: val_accuracy did not improve from 1.00000\n",
      "Epoch 44/100\n",
      "5225/5225 [==============================] - 4s 790us/step - loss: 0.0191 - accuracy: 0.9923 - val_loss: 0.0314 - val_accuracy: 0.9811\n",
      "\n",
      "Epoch 00044: val_accuracy did not improve from 1.00000\n",
      "Epoch 45/100\n",
      "5225/5225 [==============================] - 4s 852us/step - loss: 0.0457 - accuracy: 0.9897 - val_loss: 0.0054 - val_accuracy: 1.0000\n",
      "\n",
      "Epoch 00045: val_accuracy did not improve from 1.00000\n",
      "Epoch 46/100\n",
      "5225/5225 [==============================] - 4s 765us/step - loss: 0.0639 - accuracy: 0.9828 - val_loss: 0.2752 - val_accuracy: 0.8302\n",
      "\n",
      "Epoch 00046: val_accuracy did not improve from 1.00000\n",
      "Epoch 47/100\n",
      "5225/5225 [==============================] - 4s 727us/step - loss: 0.0687 - accuracy: 0.9690 - val_loss: 0.0060 - val_accuracy: 1.0000\n",
      "\n",
      "Epoch 00047: val_accuracy did not improve from 1.00000\n",
      "Epoch 48/100\n",
      "5225/5225 [==============================] - 4s 818us/step - loss: 0.0218 - accuracy: 0.9941 - val_loss: 0.0056 - val_accuracy: 1.0000\n",
      "\n",
      "Epoch 00048: val_accuracy did not improve from 1.00000\n",
      "Epoch 49/100\n",
      "5225/5225 [==============================] - 4s 792us/step - loss: 0.1374 - accuracy: 0.9592 - val_loss: 0.0216 - val_accuracy: 1.0000\n",
      "\n",
      "Epoch 00049: val_accuracy did not improve from 1.00000\n",
      "Epoch 50/100\n",
      "5225/5225 [==============================] - 4s 803us/step - loss: 0.1076 - accuracy: 0.9788 - val_loss: 0.0112 - val_accuracy: 1.0000\n",
      "\n",
      "Epoch 00050: val_accuracy did not improve from 1.00000\n",
      "Epoch 51/100\n",
      "5225/5225 [==============================] - 4s 809us/step - loss: 0.0458 - accuracy: 0.9918 - val_loss: 0.0049 - val_accuracy: 1.0000\n",
      "\n",
      "Epoch 00051: val_accuracy did not improve from 1.00000\n",
      "Epoch 52/100\n",
      "5225/5225 [==============================] - 4s 804us/step - loss: 0.0158 - accuracy: 0.9943 - val_loss: 1.9265e-04 - val_accuracy: 1.0000\n",
      "\n",
      "Epoch 00052: val_accuracy did not improve from 1.00000\n",
      "Epoch 53/100\n",
      "5225/5225 [==============================] - 4s 813us/step - loss: 0.0583 - accuracy: 0.9788 - val_loss: 0.0168 - val_accuracy: 1.0000\n",
      "\n",
      "Epoch 00053: val_accuracy did not improve from 1.00000\n",
      "Epoch 54/100\n",
      "5225/5225 [==============================] - 4s 757us/step - loss: 0.0350 - accuracy: 0.9866 - val_loss: 0.0312 - val_accuracy: 1.0000\n",
      "\n",
      "Epoch 00054: val_accuracy did not improve from 1.00000\n",
      "Epoch 55/100\n",
      "5225/5225 [==============================] - 4s 741us/step - loss: 0.0231 - accuracy: 0.9912 - val_loss: 3.1882e-04 - val_accuracy: 1.0000\n",
      "\n",
      "Epoch 00055: val_accuracy did not improve from 1.00000\n",
      "Epoch 56/100\n",
      "5225/5225 [==============================] - 4s 773us/step - loss: 0.0131 - accuracy: 0.9933 - val_loss: 1.9481e-04 - val_accuracy: 1.0000\n",
      "\n",
      "Epoch 00056: val_accuracy did not improve from 1.00000\n",
      "Epoch 57/100\n",
      "5225/5225 [==============================] - 4s 774us/step - loss: 0.0212 - accuracy: 0.9927 - val_loss: 0.0023 - val_accuracy: 1.0000\n",
      "\n",
      "Epoch 00057: val_accuracy did not improve from 1.00000\n",
      "Epoch 58/100\n",
      "5225/5225 [==============================] - 4s 814us/step - loss: 0.0654 - accuracy: 0.9721 - val_loss: 0.0017 - val_accuracy: 1.0000\n",
      "\n",
      "Epoch 00058: val_accuracy did not improve from 1.00000\n",
      "Epoch 59/100\n",
      "5225/5225 [==============================] - 5s 888us/step - loss: 0.0654 - accuracy: 0.9774 - val_loss: 0.0045 - val_accuracy: 1.0000\n",
      "\n",
      "Epoch 00059: val_accuracy did not improve from 1.00000\n",
      "Epoch 60/100\n",
      "5225/5225 [==============================] - 5s 886us/step - loss: 0.1027 - accuracy: 0.9841 - val_loss: 0.0453 - val_accuracy: 0.9811\n",
      "\n",
      "Epoch 00060: val_accuracy did not improve from 1.00000\n",
      "Epoch 61/100\n",
      "5225/5225 [==============================] - 4s 712us/step - loss: 0.0246 - accuracy: 0.9910 - val_loss: 5.1076e-04 - val_accuracy: 1.0000\n",
      "\n",
      "Epoch 00061: val_accuracy did not improve from 1.00000\n",
      "Epoch 62/100\n",
      "5225/5225 [==============================] - 4s 824us/step - loss: 0.0283 - accuracy: 0.9878 - val_loss: 4.1568e-04 - val_accuracy: 1.0000\n",
      "\n",
      "Epoch 00062: val_accuracy did not improve from 1.00000\n",
      "Epoch 63/100\n",
      "5225/5225 [==============================] - 4s 811us/step - loss: 0.0119 - accuracy: 0.9944 - val_loss: 2.7109e-05 - val_accuracy: 1.0000\n",
      "\n",
      "Epoch 00063: val_accuracy did not improve from 1.00000\n",
      "Epoch 64/100\n",
      "5225/5225 [==============================] - 4s 824us/step - loss: 0.0177 - accuracy: 0.9956 - val_loss: 0.0180 - val_accuracy: 0.9811\n",
      "\n",
      "Epoch 00064: val_accuracy did not improve from 1.00000\n",
      "Epoch 65/100\n",
      "5225/5225 [==============================] - 4s 809us/step - loss: 0.0669 - accuracy: 0.9812 - val_loss: 0.0492 - val_accuracy: 0.9811\n",
      "\n",
      "Epoch 00065: val_accuracy did not improve from 1.00000\n",
      "Epoch 66/100\n",
      "5225/5225 [==============================] - 4s 807us/step - loss: 0.0210 - accuracy: 0.9927 - val_loss: 8.0644e-04 - val_accuracy: 1.0000\n",
      "\n",
      "Epoch 00066: val_accuracy did not improve from 1.00000\n",
      "Epoch 67/100\n",
      "5225/5225 [==============================] - 4s 822us/step - loss: 0.0133 - accuracy: 0.9952 - val_loss: 1.2373e-04 - val_accuracy: 1.0000\n",
      "\n",
      "Epoch 00067: val_accuracy did not improve from 1.00000\n",
      "Epoch 68/100\n",
      "5225/5225 [==============================] - 4s 741us/step - loss: 0.0159 - accuracy: 0.9952 - val_loss: 7.0850e-07 - val_accuracy: 1.0000\n",
      "\n",
      "Epoch 00068: val_accuracy did not improve from 1.00000\n",
      "Epoch 69/100\n",
      "5225/5225 [==============================] - 4s 813us/step - loss: 0.1031 - accuracy: 0.9732 - val_loss: 0.1142 - val_accuracy: 0.9623\n",
      "\n",
      "Epoch 00069: val_accuracy did not improve from 1.00000\n",
      "Epoch 70/100\n",
      "5225/5225 [==============================] - 4s 821us/step - loss: 0.0616 - accuracy: 0.9805 - val_loss: 0.0035 - val_accuracy: 1.0000\n",
      "\n",
      "Epoch 00070: val_accuracy did not improve from 1.00000\n",
      "Epoch 71/100\n",
      "5225/5225 [==============================] - 4s 809us/step - loss: 0.0255 - accuracy: 0.9923 - val_loss: 7.5681e-05 - val_accuracy: 1.0000\n",
      "\n",
      "Epoch 00071: val_accuracy did not improve from 1.00000\n",
      "Epoch 72/100\n",
      "5225/5225 [==============================] - 4s 807us/step - loss: 0.0315 - accuracy: 0.9946 - val_loss: 1.8376e-04 - val_accuracy: 1.0000\n",
      "\n",
      "Epoch 00072: val_accuracy did not improve from 1.00000\n",
      "Epoch 73/100\n",
      "5225/5225 [==============================] - 4s 799us/step - loss: 0.0279 - accuracy: 0.9895 - val_loss: 8.4602e-04 - val_accuracy: 1.0000\n",
      "\n",
      "Epoch 00073: val_accuracy did not improve from 1.00000\n",
      "Epoch 74/100\n",
      "5225/5225 [==============================] - 4s 808us/step - loss: 0.0087 - accuracy: 0.9950 - val_loss: 5.2316e-04 - val_accuracy: 1.0000\n",
      "\n",
      "Epoch 00074: val_accuracy did not improve from 1.00000\n",
      "Epoch 75/100\n",
      "5225/5225 [==============================] - 4s 815us/step - loss: 0.0025 - accuracy: 0.9992 - val_loss: 4.6832e-05 - val_accuracy: 1.0000\n",
      "\n",
      "Epoch 00075: val_accuracy did not improve from 1.00000\n",
      "Epoch 76/100\n",
      "5225/5225 [==============================] - 4s 806us/step - loss: 2.9811e-04 - accuracy: 1.0000 - val_loss: 8.7652e-05 - val_accuracy: 1.0000\n",
      "\n",
      "Epoch 00076: val_accuracy did not improve from 1.00000\n",
      "Epoch 77/100\n",
      "5225/5225 [==============================] - 4s 785us/step - loss: 0.1345 - accuracy: 0.9589 - val_loss: 3.9608e-06 - val_accuracy: 1.0000\n",
      "\n",
      "Epoch 00077: val_accuracy did not improve from 1.00000\n",
      "Epoch 78/100\n",
      "5225/5225 [==============================] - 4s 803us/step - loss: 0.1266 - accuracy: 0.9388 - val_loss: 0.0245 - val_accuracy: 0.9811\n",
      "\n",
      "Epoch 00078: val_accuracy did not improve from 1.00000\n",
      "Epoch 79/100\n",
      "5225/5225 [==============================] - 4s 785us/step - loss: 0.0460 - accuracy: 0.9809 - val_loss: 0.0348 - val_accuracy: 0.9811\n",
      "\n",
      "Epoch 00079: val_accuracy did not improve from 1.00000\n",
      "Epoch 80/100\n",
      "5225/5225 [==============================] - 4s 812us/step - loss: 0.0556 - accuracy: 0.9795 - val_loss: 0.0701 - val_accuracy: 0.9057\n",
      "\n",
      "Epoch 00080: val_accuracy did not improve from 1.00000\n",
      "Epoch 81/100\n",
      "5225/5225 [==============================] - 4s 832us/step - loss: 0.0291 - accuracy: 0.9902 - val_loss: 4.5659e-07 - val_accuracy: 1.0000\n",
      "\n",
      "Epoch 00081: val_accuracy did not improve from 1.00000\n",
      "Epoch 82/100\n",
      "5225/5225 [==============================] - 4s 817us/step - loss: 0.0416 - accuracy: 0.9833 - val_loss: 0.0228 - val_accuracy: 1.0000\n",
      "\n",
      "Epoch 00082: val_accuracy did not improve from 1.00000\n",
      "Epoch 83/100\n",
      "5225/5225 [==============================] - 4s 809us/step - loss: 0.0189 - accuracy: 0.9920 - val_loss: 0.0335 - val_accuracy: 0.9623\n",
      "\n",
      "Epoch 00083: val_accuracy did not improve from 1.00000\n",
      "Epoch 84/100\n",
      "5225/5225 [==============================] - 4s 789us/step - loss: 0.0430 - accuracy: 0.9830 - val_loss: 4.3195e-05 - val_accuracy: 1.0000\n",
      "\n",
      "Epoch 00084: val_accuracy did not improve from 1.00000\n",
      "Epoch 85/100\n",
      "5225/5225 [==============================] - 4s 806us/step - loss: 0.0726 - accuracy: 0.9906 - val_loss: 0.0467 - val_accuracy: 0.9811\n",
      "\n",
      "Epoch 00085: val_accuracy did not improve from 1.00000\n",
      "Epoch 86/100\n",
      "5225/5225 [==============================] - 4s 829us/step - loss: 0.0232 - accuracy: 0.9872 - val_loss: 0.0035 - val_accuracy: 1.0000\n",
      "\n",
      "Epoch 00086: val_accuracy did not improve from 1.00000\n",
      "Epoch 87/100\n",
      "5225/5225 [==============================] - 4s 806us/step - loss: 0.0082 - accuracy: 0.9967 - val_loss: 1.1088e-05 - val_accuracy: 1.0000\n",
      "\n",
      "Epoch 00087: val_accuracy did not improve from 1.00000\n",
      "Epoch 88/100\n",
      "5225/5225 [==============================] - 4s 828us/step - loss: 0.0770 - accuracy: 0.9816 - val_loss: 0.0813 - val_accuracy: 0.9811\n",
      "\n",
      "Epoch 00088: val_accuracy did not improve from 1.00000\n",
      "Epoch 89/100\n",
      "5225/5225 [==============================] - 4s 801us/step - loss: 0.0255 - accuracy: 0.9868 - val_loss: 8.1508e-04 - val_accuracy: 1.0000\n",
      "\n",
      "Epoch 00089: val_accuracy did not improve from 1.00000\n",
      "Epoch 90/100\n",
      "5225/5225 [==============================] - 4s 812us/step - loss: 0.0258 - accuracy: 0.9885 - val_loss: 0.0115 - val_accuracy: 1.0000\n",
      "\n",
      "Epoch 00090: val_accuracy did not improve from 1.00000\n",
      "Epoch 91/100\n",
      "5225/5225 [==============================] - 4s 821us/step - loss: 0.0094 - accuracy: 0.9954 - val_loss: 0.0083 - val_accuracy: 1.0000\n",
      "\n",
      "Epoch 00091: val_accuracy did not improve from 1.00000\n",
      "Epoch 92/100\n",
      "5225/5225 [==============================] - 4s 832us/step - loss: 0.0113 - accuracy: 0.9960 - val_loss: 1.8158e-05 - val_accuracy: 1.0000\n",
      "\n",
      "Epoch 00092: val_accuracy did not improve from 1.00000\n",
      "Epoch 93/100\n",
      "5225/5225 [==============================] - 4s 840us/step - loss: 0.0121 - accuracy: 0.9952 - val_loss: 0.0048 - val_accuracy: 1.0000\n",
      "\n",
      "Epoch 00093: val_accuracy did not improve from 1.00000\n",
      "Epoch 94/100\n",
      "5225/5225 [==============================] - 4s 826us/step - loss: 0.2794 - accuracy: 0.9478 - val_loss: 0.0317 - val_accuracy: 0.9623\n",
      "\n",
      "Epoch 00094: val_accuracy did not improve from 1.00000\n",
      "Epoch 95/100\n",
      "5225/5225 [==============================] - 4s 812us/step - loss: 0.0447 - accuracy: 0.9856 - val_loss: 0.0302 - val_accuracy: 0.9623\n",
      "\n",
      "Epoch 00095: val_accuracy did not improve from 1.00000\n",
      "Epoch 96/100\n",
      "5225/5225 [==============================] - 4s 786us/step - loss: 0.0274 - accuracy: 0.9853 - val_loss: 1.1625e-04 - val_accuracy: 1.0000\n",
      "\n",
      "Epoch 00096: val_accuracy did not improve from 1.00000\n",
      "Epoch 97/100\n",
      "5225/5225 [==============================] - 4s 802us/step - loss: 0.0120 - accuracy: 0.9958 - val_loss: 9.0970e-06 - val_accuracy: 1.0000\n",
      "\n",
      "Epoch 00097: val_accuracy did not improve from 1.00000\n",
      "Epoch 98/100\n",
      "5225/5225 [==============================] - 4s 758us/step - loss: 0.0192 - accuracy: 0.9941 - val_loss: 0.0359 - val_accuracy: 0.9811\n",
      "\n",
      "Epoch 00098: val_accuracy did not improve from 1.00000\n",
      "Epoch 99/100\n",
      "5225/5225 [==============================] - 4s 800us/step - loss: 0.0124 - accuracy: 0.9920 - val_loss: 0.0260 - val_accuracy: 1.0000\n",
      "\n",
      "Epoch 00099: val_accuracy did not improve from 1.00000\n",
      "Epoch 100/100\n",
      "5225/5225 [==============================] - 4s 793us/step - loss: 0.1141 - accuracy: 0.9879 - val_loss: 0.1524 - val_accuracy: 0.9434\n",
      "\n",
      "Epoch 00100: val_accuracy did not improve from 1.00000\n"
     ]
    }
   ],
   "source": [
    "# Lets train our model with a validation split of 1% and Batch_size of 10 and upto 100 epochs\n",
    "# And Store the Accuracy and Loss in a History Object\n",
    "history=model.fit(X_train,y_train_,validation_split=0.01, epochs=100,batch_size=10,callbacks=callbacks_list)"
   ]
  },
  {
   "cell_type": "code",
   "execution_count": 19,
   "metadata": {},
   "outputs": [
    {
     "data": {
      "text/plain": [
       "Text(0,0.5,'Loss')"
      ]
     },
     "execution_count": 19,
     "metadata": {},
     "output_type": "execute_result"
    },
    {
     "data": {
      "image/png": "[encoded data removed]",
      "text/plain": [
       "<Figure size 432x288 with 2 Axes>"
      ]
     },
     "metadata": {
      "needs_background": "light"
     },
     "output_type": "display_data"
    }
   ],
   "source": [
    "# Lets make a plot of Accuracy and Loss as a function of Epochs for Both Validation and Train\n",
    "\n",
    "plt.subplots_adjust(left=12,right=14)\n",
    "plt.subplot(1,2,1)\n",
    "plt.plot(history.history['accuracy'])\n",
    "plt.plot(history.history['val_accuracy'])\n",
    "plt.legend(['Train','Validation'])\n",
    "plt.title(\"Accuracy Curve\")\n",
    "plt.xlabel(\"No. of Epochs\")\n",
    "plt.ylabel(\"Accuracy\")\n",
    "plt.subplot(1,2,2)\n",
    "\n",
    "plt.plot(history.history['loss'])\n",
    "plt.plot(history.history['val_loss'])\n",
    "plt.legend(['Train','Validation'])\n",
    "plt.title(\"loss Curve\")\n",
    "plt.xlabel(\"No. of Epochs\")\n",
    "plt.ylabel(\"Loss\")\n",
    "\n",
    "# As we can see that the model is not overfitting since the Accuracy curve for both the Train and Validation Data Set\n",
    "# is Closer to each other and regularly Increasing\n",
    "# As well As the loss is also decreasing for both the Data Sets with the Epochs"
   ]
  },
  {
   "cell_type": "code",
   "execution_count": 12,
   "metadata": {},
   "outputs": [],
   "source": [
    "# Lets use the best model which has 100% Val Accuracy and 96.06 % on Train\n",
    "from keras.models import load_model\n",
    "model=load_model(\"weights-improvement-07-1.00.hdf5\")"
   ]
  },
  {
   "cell_type": "code",
   "execution_count": 13,
   "metadata": {},
   "outputs": [],
   "source": [
    "# Lets predict the probabilities for train and Test data \n",
    "y_pred_train_=model.predict(X_train)\n",
    "y_pred_test_=model.predict(X_test)\n"
   ]
  },
  {
   "cell_type": "code",
   "execution_count": 14,
   "metadata": {},
   "outputs": [
    {
     "data": {
      "text/plain": [
       "<matplotlib.axes._subplots.AxesSubplot at 0x254fe51f898>"
      ]
     },
     "execution_count": 14,
     "metadata": {},
     "output_type": "execute_result"
    },
    {
     "data": {
      "image/png": "[encoded data removed]",
      "text/plain": [
       "<Figure size 432x288 with 1 Axes>"
      ]
     },
     "metadata": {
      "needs_background": "light"
     },
     "output_type": "display_data"
    }
   ],
   "source": [
    "#  lets plot a ROC curve for train Data Set and see how our model has performed with the help of Area Under Curve(AUC) \n",
    "#parameter\n",
    "\n",
    "skplt.metrics.plot_roc(y_train,y_pred_train_,title=\"ROC_Curve(Train Data Set)\")"
   ]
  },
  {
   "cell_type": "code",
   "execution_count": 30,
   "metadata": {},
   "outputs": [
    {
     "data": {
      "text/plain": [
       "<matplotlib.axes._subplots.AxesSubplot at 0x1598ed63588>"
      ]
     },
     "execution_count": 30,
     "metadata": {},
     "output_type": "execute_result"
    },
    {
     "data": {
      "image/png": "[encoded data removed]",
      "text/plain": [
       "<Figure size 432x288 with 1 Axes>"
      ]
     },
     "metadata": {
      "needs_background": "light"
     },
     "output_type": "display_data"
    }
   ],
   "source": [
    "#  lets plot a ROC curve for test Data Set and see how our model has performed with the help of Area Under Curve(AUC) \n",
    "#parameter\n",
    "skplt.metrics.plot_roc(y_test,y_pred_test_,title=\"ROC_Curve(test Data Set)\")"
   ]
  },
  {
   "cell_type": "code",
   "execution_count": 31,
   "metadata": {},
   "outputs": [
    {
     "name": "stderr",
     "output_type": "stream",
     "text": [
      "C:\\Users\\user\\Anaconda3\\lib\\site-packages\\sklearn\\metrics\\classification.py:1437: UndefinedMetricWarning: F-score is ill-defined and being set to 0.0 due to no predicted samples.\n",
      "  'precision', 'predicted', average, warn_for)\n"
     ]
    },
    {
     "data": {
      "text/plain": [
       "Text(0,0.5,'F1_score')"
      ]
     },
     "execution_count": 31,
     "metadata": {},
     "output_type": "execute_result"
    },
    {
     "data": {
      "image/png": "[encoded data removed]",
      "text/plain": [
       "<Figure size 432x288 with 1 Axes>"
      ]
     },
     "metadata": {
      "needs_background": "light"
     },
     "output_type": "display_data"
    }
   ],
   "source": [
    "# Lets plot a f1 score for both the classes with respect to different thresholds AND See on which threshold our model\n",
    "#is performing best\n",
    "# train\n",
    "from sklearn.metrics import f1_score\n",
    "f1_0=[]   # Empty list for f1_score for Class 0 at different thresholds\n",
    "f1_1=[]   # Empty list for f1_score for Class 1 at different thresholds\n",
    "threshold=np.linspace(1,0,1000)   # lets define a threshold numpy array between 0 and 1 with gap 100K \n",
    "# Lets store the f1 score for classes 0 and 1 with respect to every threshold \n",
    "for t in threshold:\n",
    "    y_pred=[]\n",
    "    for i in y_pred_train_[:,0]:\n",
    "    \n",
    "        if(i>t):\n",
    "            y_pred.append(0)\n",
    "        else:\n",
    "            y_pred.append(1)\n",
    "    f1_0.append(f1_score(y_train,y_pred,pos_label=0))\n",
    "    f1_1.append(f1_score(y_train,y_pred,pos_label=1))\n",
    "plt.plot(np.linspace(1,0,1000),f1_1)\n",
    "plt.plot(np.linspace(1,0,1000),f1_0)\n",
    "plt.legend(['class1','class0'])\n",
    "plt.title(\"F1_Score for different thresholds(Train)\") \n",
    "plt.xlabel(\"Threshold\")\n",
    "plt.ylabel(\"F1_score\")"
   ]
  },
  {
   "cell_type": "code",
   "execution_count": 23,
   "metadata": {},
   "outputs": [
    {
     "name": "stdout",
     "output_type": "stream",
     "text": [
      "f1_score_1: 0.9100529100529101\n",
      "f1_score_0: 0.982721626199887\n"
     ]
    },
    {
     "data": {
      "image/png": "[encoded data removed]",
      "text/plain": [
       "<Figure size 288x288 with 2 Axes>"
      ]
     },
     "metadata": {
      "needs_background": "light"
     },
     "output_type": "display_data"
    }
   ],
   "source": [
    "# With the help of the above plot lets see which threshold is best and use that for the final prediction and store the \n",
    "#labels in y_pred list\n",
    "y_pred=[]\n",
    "for i in y_pred_train_[:,0]:\n",
    "    if(i>0.68):                   # So the best threshold can be 0.68\n",
    "        y_pred.append(0)\n",
    "    else:\n",
    "        y_pred.append(1)\n",
    "import scikitplot as skplt\n",
    "from sklearn.metrics import f1_score, classification_report\n",
    "cr_train=classification_report(y_train,y_pred)\n",
    "skplt.metrics.plot_confusion_matrix(y_train,y_pred,figsize=(4,4))\n",
    "print(\"f1_score_1: \"+str(f1_score(y_train,y_pred,pos_label=1)))\n",
    "print(\"f1_score_0: \"+str(f1_score(y_train,y_pred,pos_label=0)))        "
   ]
  },
  {
   "cell_type": "code",
   "execution_count": 24,
   "metadata": {},
   "outputs": [
    {
     "name": "stdout",
     "output_type": "stream",
     "text": [
      "              precision    recall  f1-score   support\n",
      "\n",
      "           0       0.99      0.97      0.98      4464\n",
      "           1       0.87      0.95      0.91       814\n",
      "\n",
      "    accuracy                           0.97      5278\n",
      "   macro avg       0.93      0.96      0.95      5278\n",
      "weighted avg       0.97      0.97      0.97      5278\n",
      "\n"
     ]
    }
   ],
   "source": [
    "# Classification report on training Data\n",
    "print(cr_train)"
   ]
  },
  {
   "cell_type": "code",
   "execution_count": 25,
   "metadata": {},
   "outputs": [
    {
     "name": "stdout",
     "output_type": "stream",
     "text": [
      "f1_score_1: 0.9090909090909092\n",
      "f1_score_0: 0.9823609226594301\n"
     ]
    },
    {
     "data": {
      "image/png": "[encoded data removed]",
      "text/plain": [
       "<Figure size 288x288 with 2 Axes>"
      ]
     },
     "metadata": {
      "needs_background": "light"
     },
     "output_type": "display_data"
    }
   ],
   "source": [
    "# F1_score and Confusion matrix on Test Data\n",
    "y_pred=[]\n",
    "for i in y_pred_test_[:,0]:\n",
    "    if(i>0.68):\n",
    "        y_pred.append(0)\n",
    "    else:\n",
    "        y_pred.append(1)\n",
    "import scikitplot as skplt\n",
    "from sklearn.metrics import f1_score\n",
    "skplt.metrics.plot_confusion_matrix(y_test,y_pred,figsize=(4,4))\n",
    "print(\"f1_score_1: \"+str(f1_score(y_test,y_pred,pos_label=1)))\n",
    "print(\"f1_score_0: \"+str(f1_score(y_test,y_pred,pos_label=0)))        \n",
    "cr_test=classification_report(y_test,y_pred)"
   ]
  },
  {
   "cell_type": "code",
   "execution_count": 27,
   "metadata": {},
   "outputs": [
    {
     "name": "stdout",
     "output_type": "stream",
     "text": [
      "              precision    recall  f1-score   support\n",
      "\n",
      "           0       0.99      0.97      0.98      1117\n",
      "           1       0.86      0.96      0.91       203\n",
      "\n",
      "    accuracy                           0.97      1320\n",
      "   macro avg       0.93      0.97      0.95      1320\n",
      "weighted avg       0.97      0.97      0.97      1320\n",
      "\n"
     ]
    }
   ],
   "source": [
    "# Classification report on test\n",
    "print(cr_test)"
   ]
  }
 ],
 "metadata": {
  "kernelspec": {
   "display_name": "Python 3",
   "language": "python",
   "name": "python3"
  },
  "language_info": {
   "codemirror_mode": {
    "name": "ipython",
    "version": 3
   },
   "file_extension": ".py",
   "mimetype": "text/x-python",
   "name": "python",
   "nbconvert_exporter": "python",
   "pygments_lexer": "ipython3",
   "version": "3.7.1"
  }
 },
 "nbformat": 4,
 "nbformat_minor": 2
}
